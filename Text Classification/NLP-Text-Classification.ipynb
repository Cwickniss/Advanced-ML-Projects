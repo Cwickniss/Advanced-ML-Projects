{
 "cells": [
  {
   "cell_type": "markdown",
   "metadata": {},
   "source": [
    "## Get the Data"
   ]
  },
  {
   "cell_type": "code",
   "execution_count": 1,
   "metadata": {},
   "outputs": [],
   "source": [
    "import pandas as pd\n",
    "\n",
    "import matplotlib.pyplot as plt\n",
    "import seaborn as sns\n",
    "\n",
    "%matplotlib inline\n",
    "\n",
    "from sklearn import datasets\n",
    "\n",
    "from nltk import ngrams"
   ]
  },
  {
   "cell_type": "markdown",
   "metadata": {},
   "source": [
    "We'll use **load_files**, to read a directory of data (the 20 Newsgroups dataset http://qwone.com/~jason/20Newsgroups/)\n",
    "\n",
    "The data here is in a directory with subdirectories inside it, each subdirectory contains text documents of the same category, the subdirectory name is the category.\n",
    "\n",
    "This needs to be transformed into a table .. let's see how it can be done!\n"
   ]
  },
  {
   "cell_type": "code",
   "execution_count": 2,
   "metadata": {},
   "outputs": [],
   "source": [
    "# Load text files with categories as subfolder names.\n",
    "# Please check the documentation of this function\n",
    "# Do shift + tab in Jupyter\n",
    "# Returns\n",
    "#-------\n",
    "#data : Bunch\n",
    "#    Dictionary-like object, the interesting attributes are: either\n",
    "#    data, the raw text data to learn, or 'filenames', the files\n",
    "#    holding it, 'target', the classification labels (integer index),\n",
    "#    'target_names', the meaning of the labels, and 'DESCR', the full\n",
    "#    description of the dataset.\n",
    "data = datasets.load_files('20news-bydate-test')"
   ]
  },
  {
   "cell_type": "code",
   "execution_count": 3,
   "metadata": {},
   "outputs": [
    {
     "data": {
      "text/plain": [
       "dict_keys(['data', 'filenames', 'target_names', 'target', 'DESCR'])"
      ]
     },
     "execution_count": 3,
     "metadata": {},
     "output_type": "execute_result"
    }
   ],
   "source": [
    "data.keys()"
   ]
  },
  {
   "cell_type": "markdown",
   "metadata": {},
   "source": [
    "### Transform into a table\n",
    "Here we read the data from the Bunch object and turn in into a pandas DF object"
   ]
  },
  {
   "cell_type": "code",
   "execution_count": 4,
   "metadata": {},
   "outputs": [],
   "source": [
    "data_tuples = []\n",
    "# loop through data and target entries\n",
    "for text,category in zip(data['data'], data['target']):\n",
    "    # decode text to deal with special characters/symbols\n",
    "    decoded = text.decode(\"cp1252\")\n",
    "    # turn text into one line\n",
    "    one_line = str.join(\" \", decoded.splitlines())\n",
    "    # save each text and its category as a tuple in a list\n",
    "    data_tuples.append((one_line, category))"
   ]
  },
  {
   "cell_type": "code",
   "execution_count": 5,
   "metadata": {},
   "outputs": [],
   "source": [
    "# create a DF from the list of tuples\n",
    "df = pd.DataFrame(data_tuples, columns=['Text','Category'])"
   ]
  },
  {
   "cell_type": "markdown",
   "metadata": {},
   "source": [
    "## Exploratory Data Analysis"
   ]
  },
  {
   "cell_type": "code",
   "execution_count": 6,
   "metadata": {},
   "outputs": [
    {
     "data": {
      "text/html": [
       "<div>\n",
       "<style scoped>\n",
       "    .dataframe tbody tr th:only-of-type {\n",
       "        vertical-align: middle;\n",
       "    }\n",
       "\n",
       "    .dataframe tbody tr th {\n",
       "        vertical-align: top;\n",
       "    }\n",
       "\n",
       "    .dataframe thead th {\n",
       "        text-align: right;\n",
       "    }\n",
       "</style>\n",
       "<table border=\"1\" class=\"dataframe\">\n",
       "  <thead>\n",
       "    <tr style=\"text-align: right;\">\n",
       "      <th></th>\n",
       "      <th>Text</th>\n",
       "      <th>Category</th>\n",
       "    </tr>\n",
       "  </thead>\n",
       "  <tbody>\n",
       "    <tr>\n",
       "      <th>0</th>\n",
       "      <td>From: stimpy@dev-null.phys.psu.edu (Gregory Na...</td>\n",
       "      <td>10</td>\n",
       "    </tr>\n",
       "    <tr>\n",
       "      <th>1</th>\n",
       "      <td>From: kennejs@a.cs.okstate.edu (KENNEDY JAMES ...</td>\n",
       "      <td>16</td>\n",
       "    </tr>\n",
       "    <tr>\n",
       "      <th>2</th>\n",
       "      <td>From: perky@acs.bu.edu (Melissa Sherrin) Subje...</td>\n",
       "      <td>14</td>\n",
       "    </tr>\n",
       "    <tr>\n",
       "      <th>3</th>\n",
       "      <td>From: evansmp@uhura.aston.ac.uk (Mark Evans) S...</td>\n",
       "      <td>18</td>\n",
       "    </tr>\n",
       "    <tr>\n",
       "      <th>4</th>\n",
       "      <td>From: sxs@extol.Convergent.Com (S. Sridhar) Su...</td>\n",
       "      <td>5</td>\n",
       "    </tr>\n",
       "  </tbody>\n",
       "</table>\n",
       "</div>"
      ],
      "text/plain": [
       "                                                Text  Category\n",
       "0  From: stimpy@dev-null.phys.psu.edu (Gregory Na...        10\n",
       "1  From: kennejs@a.cs.okstate.edu (KENNEDY JAMES ...        16\n",
       "2  From: perky@acs.bu.edu (Melissa Sherrin) Subje...        14\n",
       "3  From: evansmp@uhura.aston.ac.uk (Mark Evans) S...        18\n",
       "4  From: sxs@extol.Convergent.Com (S. Sridhar) Su...         5"
      ]
     },
     "execution_count": 6,
     "metadata": {},
     "output_type": "execute_result"
    }
   ],
   "source": [
    "df.head()"
   ]
  },
  {
   "cell_type": "code",
   "execution_count": 7,
   "metadata": {},
   "outputs": [
    {
     "data": {
      "text/plain": [
       "10    399\n",
       "8     398\n",
       "15    398\n",
       "9     397\n",
       "11    396\n",
       "7     396\n",
       "13    396\n",
       "5     395\n",
       "14    394\n",
       "2     394\n",
       "12    393\n",
       "3     392\n",
       "6     390\n",
       "1     389\n",
       "4     385\n",
       "17    376\n",
       "16    364\n",
       "0     319\n",
       "18    310\n",
       "19    251\n",
       "Name: Category, dtype: int64"
      ]
     },
     "execution_count": 7,
     "metadata": {},
     "output_type": "execute_result"
    }
   ],
   "source": [
    "df['Category'].value_counts()"
   ]
  },
  {
   "cell_type": "code",
   "execution_count": 8,
   "metadata": {},
   "outputs": [
    {
     "data": {
      "text/html": [
       "<div>\n",
       "<style scoped>\n",
       "    .dataframe tbody tr th:only-of-type {\n",
       "        vertical-align: middle;\n",
       "    }\n",
       "\n",
       "    .dataframe tbody tr th {\n",
       "        vertical-align: top;\n",
       "    }\n",
       "\n",
       "    .dataframe thead th {\n",
       "        text-align: right;\n",
       "    }\n",
       "</style>\n",
       "<table border=\"1\" class=\"dataframe\">\n",
       "  <thead>\n",
       "    <tr style=\"text-align: right;\">\n",
       "      <th></th>\n",
       "      <th>Category</th>\n",
       "    </tr>\n",
       "  </thead>\n",
       "  <tbody>\n",
       "    <tr>\n",
       "      <th>count</th>\n",
       "      <td>7532.000000</td>\n",
       "    </tr>\n",
       "    <tr>\n",
       "      <th>mean</th>\n",
       "      <td>9.293415</td>\n",
       "    </tr>\n",
       "    <tr>\n",
       "      <th>std</th>\n",
       "      <td>5.563286</td>\n",
       "    </tr>\n",
       "    <tr>\n",
       "      <th>min</th>\n",
       "      <td>0.000000</td>\n",
       "    </tr>\n",
       "    <tr>\n",
       "      <th>25%</th>\n",
       "      <td>5.000000</td>\n",
       "    </tr>\n",
       "    <tr>\n",
       "      <th>50%</th>\n",
       "      <td>9.000000</td>\n",
       "    </tr>\n",
       "    <tr>\n",
       "      <th>75%</th>\n",
       "      <td>14.000000</td>\n",
       "    </tr>\n",
       "    <tr>\n",
       "      <th>max</th>\n",
       "      <td>19.000000</td>\n",
       "    </tr>\n",
       "  </tbody>\n",
       "</table>\n",
       "</div>"
      ],
      "text/plain": [
       "          Category\n",
       "count  7532.000000\n",
       "mean      9.293415\n",
       "std       5.563286\n",
       "min       0.000000\n",
       "25%       5.000000\n",
       "50%       9.000000\n",
       "75%      14.000000\n",
       "max      19.000000"
      ]
     },
     "execution_count": 8,
     "metadata": {},
     "output_type": "execute_result"
    }
   ],
   "source": [
    "df.describe()"
   ]
  },
  {
   "cell_type": "markdown",
   "metadata": {},
   "source": [
    "Let's use **groupby** to use describe by label, this way we can begin to think about the features that separate different categories"
   ]
  },
  {
   "cell_type": "code",
   "execution_count": 9,
   "metadata": {},
   "outputs": [
    {
     "data": {
      "text/html": [
       "<div>\n",
       "<style scoped>\n",
       "    .dataframe tbody tr th:only-of-type {\n",
       "        vertical-align: middle;\n",
       "    }\n",
       "\n",
       "    .dataframe tbody tr th {\n",
       "        vertical-align: top;\n",
       "    }\n",
       "\n",
       "    .dataframe thead tr th {\n",
       "        text-align: left;\n",
       "    }\n",
       "\n",
       "    .dataframe thead tr:last-of-type th {\n",
       "        text-align: right;\n",
       "    }\n",
       "</style>\n",
       "<table border=\"1\" class=\"dataframe\">\n",
       "  <thead>\n",
       "    <tr>\n",
       "      <th></th>\n",
       "      <th colspan=\"4\" halign=\"left\">Text</th>\n",
       "    </tr>\n",
       "    <tr>\n",
       "      <th></th>\n",
       "      <th>count</th>\n",
       "      <th>unique</th>\n",
       "      <th>top</th>\n",
       "      <th>freq</th>\n",
       "    </tr>\n",
       "    <tr>\n",
       "      <th>Category</th>\n",
       "      <th></th>\n",
       "      <th></th>\n",
       "      <th></th>\n",
       "      <th></th>\n",
       "    </tr>\n",
       "  </thead>\n",
       "  <tbody>\n",
       "    <tr>\n",
       "      <th>0</th>\n",
       "      <td>319</td>\n",
       "      <td>319</td>\n",
       "      <td>From: mam@mouse.cmhnet.org (Mike McAngus) Subj...</td>\n",
       "      <td>1</td>\n",
       "    </tr>\n",
       "    <tr>\n",
       "      <th>1</th>\n",
       "      <td>389</td>\n",
       "      <td>389</td>\n",
       "      <td>From: egret@wet.UUCP (thomas helke) Subject: H...</td>\n",
       "      <td>1</td>\n",
       "    </tr>\n",
       "    <tr>\n",
       "      <th>2</th>\n",
       "      <td>394</td>\n",
       "      <td>394</td>\n",
       "      <td>From: punshon@skorpio.usask.ca (John Punshon) ...</td>\n",
       "      <td>1</td>\n",
       "    </tr>\n",
       "    <tr>\n",
       "      <th>3</th>\n",
       "      <td>392</td>\n",
       "      <td>392</td>\n",
       "      <td>From: newbury@tecsun1.tec.army.mil (George New...</td>\n",
       "      <td>1</td>\n",
       "    </tr>\n",
       "    <tr>\n",
       "      <th>4</th>\n",
       "      <td>385</td>\n",
       "      <td>385</td>\n",
       "      <td>From: corbo@lclark.edu (Beth Corbo) Subject: R...</td>\n",
       "      <td>1</td>\n",
       "    </tr>\n",
       "    <tr>\n",
       "      <th>5</th>\n",
       "      <td>395</td>\n",
       "      <td>395</td>\n",
       "      <td>From: gibanez@dcc.uchile.cl (Gabriel Ibanez C....</td>\n",
       "      <td>1</td>\n",
       "    </tr>\n",
       "    <tr>\n",
       "      <th>6</th>\n",
       "      <td>390</td>\n",
       "      <td>390</td>\n",
       "      <td>From: grichard@cis.ohio-state.edu (Golden Rich...</td>\n",
       "      <td>1</td>\n",
       "    </tr>\n",
       "    <tr>\n",
       "      <th>7</th>\n",
       "      <td>396</td>\n",
       "      <td>396</td>\n",
       "      <td>From: kchong@mothra.nts.uci.edu (Keith Chong) ...</td>\n",
       "      <td>1</td>\n",
       "    </tr>\n",
       "    <tr>\n",
       "      <th>8</th>\n",
       "      <td>398</td>\n",
       "      <td>398</td>\n",
       "      <td>From: prange@nickel.ucs.indiana.edu (Henry Pra...</td>\n",
       "      <td>1</td>\n",
       "    </tr>\n",
       "    <tr>\n",
       "      <th>9</th>\n",
       "      <td>397</td>\n",
       "      <td>397</td>\n",
       "      <td>From: steph@pegasus.cs.uiuc.edu (Dale Stephens...</td>\n",
       "      <td>1</td>\n",
       "    </tr>\n",
       "    <tr>\n",
       "      <th>10</th>\n",
       "      <td>399</td>\n",
       "      <td>399</td>\n",
       "      <td>From: hammerl@acsu.buffalo.edu (Valerie S. Ham...</td>\n",
       "      <td>1</td>\n",
       "    </tr>\n",
       "    <tr>\n",
       "      <th>11</th>\n",
       "      <td>396</td>\n",
       "      <td>396</td>\n",
       "      <td>From: wcs@anchor.ho.att.com (Bill Stewart +1-9...</td>\n",
       "      <td>1</td>\n",
       "    </tr>\n",
       "    <tr>\n",
       "      <th>12</th>\n",
       "      <td>393</td>\n",
       "      <td>393</td>\n",
       "      <td>From: jimc@tau-ceti.isc-br.com (Jim Cathey) Su...</td>\n",
       "      <td>1</td>\n",
       "    </tr>\n",
       "    <tr>\n",
       "      <th>13</th>\n",
       "      <td>396</td>\n",
       "      <td>396</td>\n",
       "      <td>From: mmatusev@radford.vak12ed.edu (Melissa N....</td>\n",
       "      <td>1</td>\n",
       "    </tr>\n",
       "    <tr>\n",
       "      <th>14</th>\n",
       "      <td>394</td>\n",
       "      <td>394</td>\n",
       "      <td>From: henry@zoo.toronto.edu (Henry Spencer) Su...</td>\n",
       "      <td>1</td>\n",
       "    </tr>\n",
       "    <tr>\n",
       "      <th>15</th>\n",
       "      <td>398</td>\n",
       "      <td>398</td>\n",
       "      <td>From: koberg@spot.Colorado.EDU (Allen Koberg) ...</td>\n",
       "      <td>1</td>\n",
       "    </tr>\n",
       "    <tr>\n",
       "      <th>16</th>\n",
       "      <td>364</td>\n",
       "      <td>364</td>\n",
       "      <td>From: meyers@leonardo.rtp.dg.com (Bill Meyers)...</td>\n",
       "      <td>1</td>\n",
       "    </tr>\n",
       "    <tr>\n",
       "      <th>17</th>\n",
       "      <td>376</td>\n",
       "      <td>376</td>\n",
       "      <td>From: jake@bony1.bony.com (Jake Livni) Subject...</td>\n",
       "      <td>1</td>\n",
       "    </tr>\n",
       "    <tr>\n",
       "      <th>18</th>\n",
       "      <td>310</td>\n",
       "      <td>310</td>\n",
       "      <td>From: gsmith@kalliope.iwr.uni-heidelberg.de (G...</td>\n",
       "      <td>1</td>\n",
       "    </tr>\n",
       "    <tr>\n",
       "      <th>19</th>\n",
       "      <td>251</td>\n",
       "      <td>251</td>\n",
       "      <td>From: jeffjc@cs.mcgill.ca (Jeffrey CHANCE) Sub...</td>\n",
       "      <td>1</td>\n",
       "    </tr>\n",
       "  </tbody>\n",
       "</table>\n",
       "</div>"
      ],
      "text/plain": [
       "          Text                                                               \n",
       "         count unique                                                top freq\n",
       "Category                                                                     \n",
       "0          319    319  From: mam@mouse.cmhnet.org (Mike McAngus) Subj...    1\n",
       "1          389    389  From: egret@wet.UUCP (thomas helke) Subject: H...    1\n",
       "2          394    394  From: punshon@skorpio.usask.ca (John Punshon) ...    1\n",
       "3          392    392  From: newbury@tecsun1.tec.army.mil (George New...    1\n",
       "4          385    385  From: corbo@lclark.edu (Beth Corbo) Subject: R...    1\n",
       "5          395    395  From: gibanez@dcc.uchile.cl (Gabriel Ibanez C....    1\n",
       "6          390    390  From: grichard@cis.ohio-state.edu (Golden Rich...    1\n",
       "7          396    396  From: kchong@mothra.nts.uci.edu (Keith Chong) ...    1\n",
       "8          398    398  From: prange@nickel.ucs.indiana.edu (Henry Pra...    1\n",
       "9          397    397  From: steph@pegasus.cs.uiuc.edu (Dale Stephens...    1\n",
       "10         399    399  From: hammerl@acsu.buffalo.edu (Valerie S. Ham...    1\n",
       "11         396    396  From: wcs@anchor.ho.att.com (Bill Stewart +1-9...    1\n",
       "12         393    393  From: jimc@tau-ceti.isc-br.com (Jim Cathey) Su...    1\n",
       "13         396    396  From: mmatusev@radford.vak12ed.edu (Melissa N....    1\n",
       "14         394    394  From: henry@zoo.toronto.edu (Henry Spencer) Su...    1\n",
       "15         398    398  From: koberg@spot.Colorado.EDU (Allen Koberg) ...    1\n",
       "16         364    364  From: meyers@leonardo.rtp.dg.com (Bill Meyers)...    1\n",
       "17         376    376  From: jake@bony1.bony.com (Jake Livni) Subject...    1\n",
       "18         310    310  From: gsmith@kalliope.iwr.uni-heidelberg.de (G...    1\n",
       "19         251    251  From: jeffjc@cs.mcgill.ca (Jeffrey CHANCE) Sub...    1"
      ]
     },
     "execution_count": 9,
     "metadata": {},
     "output_type": "execute_result"
    }
   ],
   "source": [
    "df.groupby('Category').describe()"
   ]
  },
  {
   "cell_type": "markdown",
   "metadata": {},
   "source": [
    "As we continue our analysis we want to start thinking about the features we are going to be using. This goes along with the general idea of [feature engineering](https://en.wikipedia.org/wiki/Feature_engineering). The better your domain knowledge on the data, the better your ability to engineer more features from it. Feature engineering is a very large part of text classification in general. I encourage you to read up on the topic!\n",
    "\n",
    "Let's make a new column to detect how long each text entry is!"
   ]
  },
  {
   "cell_type": "code",
   "execution_count": 10,
   "metadata": {},
   "outputs": [
    {
     "data": {
      "text/html": [
       "<div>\n",
       "<style scoped>\n",
       "    .dataframe tbody tr th:only-of-type {\n",
       "        vertical-align: middle;\n",
       "    }\n",
       "\n",
       "    .dataframe tbody tr th {\n",
       "        vertical-align: top;\n",
       "    }\n",
       "\n",
       "    .dataframe thead th {\n",
       "        text-align: right;\n",
       "    }\n",
       "</style>\n",
       "<table border=\"1\" class=\"dataframe\">\n",
       "  <thead>\n",
       "    <tr style=\"text-align: right;\">\n",
       "      <th></th>\n",
       "      <th>Text</th>\n",
       "      <th>Category</th>\n",
       "      <th>length</th>\n",
       "    </tr>\n",
       "  </thead>\n",
       "  <tbody>\n",
       "    <tr>\n",
       "      <th>0</th>\n",
       "      <td>From: stimpy@dev-null.phys.psu.edu (Gregory Na...</td>\n",
       "      <td>10</td>\n",
       "      <td>2551</td>\n",
       "    </tr>\n",
       "    <tr>\n",
       "      <th>1</th>\n",
       "      <td>From: kennejs@a.cs.okstate.edu (KENNEDY JAMES ...</td>\n",
       "      <td>16</td>\n",
       "      <td>3070</td>\n",
       "    </tr>\n",
       "    <tr>\n",
       "      <th>2</th>\n",
       "      <td>From: perky@acs.bu.edu (Melissa Sherrin) Subje...</td>\n",
       "      <td>14</td>\n",
       "      <td>423</td>\n",
       "    </tr>\n",
       "    <tr>\n",
       "      <th>3</th>\n",
       "      <td>From: evansmp@uhura.aston.ac.uk (Mark Evans) S...</td>\n",
       "      <td>18</td>\n",
       "      <td>1069</td>\n",
       "    </tr>\n",
       "    <tr>\n",
       "      <th>4</th>\n",
       "      <td>From: sxs@extol.Convergent.Com (S. Sridhar) Su...</td>\n",
       "      <td>5</td>\n",
       "      <td>961</td>\n",
       "    </tr>\n",
       "  </tbody>\n",
       "</table>\n",
       "</div>"
      ],
      "text/plain": [
       "                                                Text  Category  length\n",
       "0  From: stimpy@dev-null.phys.psu.edu (Gregory Na...        10    2551\n",
       "1  From: kennejs@a.cs.okstate.edu (KENNEDY JAMES ...        16    3070\n",
       "2  From: perky@acs.bu.edu (Melissa Sherrin) Subje...        14     423\n",
       "3  From: evansmp@uhura.aston.ac.uk (Mark Evans) S...        18    1069\n",
       "4  From: sxs@extol.Convergent.Com (S. Sridhar) Su...         5     961"
      ]
     },
     "execution_count": 10,
     "metadata": {},
     "output_type": "execute_result"
    }
   ],
   "source": [
    "# length here is the number of chars\n",
    "df['length'] = df['Text'].apply(len)\n",
    "df.head()"
   ]
  },
  {
   "cell_type": "code",
   "execution_count": 11,
   "metadata": {},
   "outputs": [
    {
     "data": {
      "text/plain": [
       "\"From: chcu327@bongo.cc.utexas.edu (Sulagna Chatterjee) Subject: 85 Mazda GLC for Sale Organization: The University of Texas at Austin, Austin TX Lines: 26 Distribution: austin Reply-To: chcu327@bongo.cc.utexas.edu (Sulagna Chatterjee) NNTP-Posting-Host: bongo.cc.utexas.edu Originator: chcu327@bongo.cc.utexas.edu    \\t\\t\\t85'Mazda GLC  \\t-\\t58K miles \\t-\\tcharcoal grey, 4-dr \\t-\\tautomatic transmission \\t-\\tA/C , Stereo System with 4-way speaker \\t-\\trear window defrost, cruise control \\t-\\tNew water pump, front tires, headlight, heat shield.         -       1 year old battery and transmission. \\t-\\tWell Maintained with all Records of purchase and service.         -       Inspection done in Feb'93 \\t-\\tGood Condition         -       Reason for selling : Moving out of Austin.  \\t\\t$ 2500.00 (negotiable) \\t\\tMust see to appreciate. \\t\\tcall or leave message on answering machine at 477-9429                       or email to sc@che.utexas.edu  --  Sulagna Chatterjee_________________________________________________ Department of Chemical Engineering     :sc@che.utexas.edu  University of Texas @ Austin, TX 78712 :chcu327@bongo.cc.utexas.edu  ____________________________________________________________________\""
      ]
     },
     "execution_count": 11,
     "metadata": {},
     "output_type": "execute_result"
    }
   ],
   "source": [
    "df['Text'][200]"
   ]
  },
  {
   "cell_type": "markdown",
   "metadata": {},
   "source": [
    "### Some Data Visualization"
   ]
  },
  {
   "cell_type": "code",
   "execution_count": 12,
   "metadata": {},
   "outputs": [
    {
     "data": {
      "image/png": "[encoded data removed]",
      "text/plain": [
       "<Figure size 576x288 with 1 Axes>"
      ]
     },
     "metadata": {
      "needs_background": "light"
     },
     "output_type": "display_data"
    }
   ],
   "source": [
    "# Are the classes balanced?\n",
    "count_target = df['Category'].value_counts()\n",
    "\n",
    "plt.figure(figsize=(8,4))\n",
    "sns.barplot(count_target.index, count_target.values, alpha=0.8)\n",
    "plt.ylabel('Number of Occurrences', fontsize=12)\n",
    "plt.xlabel('Category', fontsize=12);"
   ]
  },
  {
   "cell_type": "code",
   "execution_count": 13,
   "metadata": {},
   "outputs": [
    {
     "data": {
      "image/png": "[encoded data removed]",
      "text/plain": [
       "<Figure size 432x288 with 1 Axes>"
      ]
     },
     "metadata": {
      "needs_background": "light"
     },
     "output_type": "display_data"
    }
   ],
   "source": [
    "df['length'].plot(bins=5, kind='hist');"
   ]
  },
  {
   "cell_type": "markdown",
   "metadata": {},
   "source": [
    "Play around with the bin size! Looks like text length may be a good feature to think about! Let's try to explain why the x-axis goes all the way to more than 160000, this must mean that there is some really long texts!"
   ]
  },
  {
   "cell_type": "code",
   "execution_count": 14,
   "metadata": {},
   "outputs": [
    {
     "data": {
      "text/plain": [
       "count      7532.000000\n",
       "mean       1831.234599\n",
       "std        3705.748354\n",
       "min         114.000000\n",
       "25%         747.000000\n",
       "50%        1167.500000\n",
       "75%        1860.000000\n",
       "max      160615.000000\n",
       "Name: length, dtype: float64"
      ]
     },
     "execution_count": 14,
     "metadata": {},
     "output_type": "execute_result"
    }
   ],
   "source": [
    "df.length.describe()"
   ]
  },
  {
   "cell_type": "code",
   "execution_count": 15,
   "metadata": {},
   "outputs": [
    {
     "data": {
      "image/png": "[encoded data removed]",
      "text/plain": [
       "<Figure size 864x864 with 20 Axes>"
      ]
     },
     "metadata": {
      "needs_background": "light"
     },
     "output_type": "display_data"
    }
   ],
   "source": [
    "df.hist(column='length', by='Category', bins=20,figsize=(12,12));"
   ]
  },
  {
   "cell_type": "markdown",
   "metadata": {},
   "source": [
    "## Text Pre-processing"
   ]
  },
  {
   "cell_type": "markdown",
   "metadata": {},
   "source": [
    "The main issue with our data is that it is all in text format (strings). To be able to use classification algorithms we will need some sort of numerical feature vector in order to perform the classification tasks. There are actually many methods to convert a corpus to a vector format. The simplest is the the [bag-of-words](http://en.wikipedia.org/wiki/Bag-of-words_model) approach, where each unique word in a text will be represented by one number.\n",
    "\n",
    "\n",
    "** In this section we'll convert the raw text (sequence of characters) into vectors (sequences of numbers) **\n",
    "\n",
    "As a first step, let us write a function that splits a text line (i.e. a file or tweet) into its individual words and returns a list. We will also remove very common words, ('the', 'a', etc..). To do this we will take advantage of a text file that contains a list of very common words (i.e. stopwords).\n",
    "\n",
    "In addition we will perform two steps: text stemming and ngram tokenisation which are common techniques in text preprocessing.\n",
    "\n",
    "Let's create a function that will process the string in the **Text** column, then we can just use **apply()** in pandas to process all the text in the DataFrame."
   ]
  },
  {
   "cell_type": "markdown",
   "metadata": {},
   "source": [
    "### To Remove Stopwords \n",
    "* Here we prepare a list of stopwords\n",
    "* We import a list of english stopwords from a text file\n",
    "* We later remove these words from the input text"
   ]
  },
  {
   "cell_type": "code",
   "execution_count": 16,
   "metadata": {},
   "outputs": [],
   "source": [
    "my_stopwords = []\n",
    "with open(r'stopwords_en.txt') as f:\n",
    "    my_stopwords = f.read().splitlines()"
   ]
  },
  {
   "cell_type": "markdown",
   "metadata": {},
   "source": [
    "### NGram Tokenisation\n",
    "Now let's write a function to \"tokenise\" the text lines (i.e. files). Tokenisation is the term used to describe the process of converting the normal text strings in to a list of tokens (words or sentences that we actually want).\n",
    "\n",
    "* Here we apply ngram tokenisation\n",
    "* This function receives a text list where each element is a string in a text\n",
    "* e.g. ['take', 'a', 'string', 'text']\n",
    "* Also the number of tokens n .. default is 3\n",
    "* It returns the tokenised string as a list of tokens .. e.g. ['take a string', 'a string text']"
   ]
  },
  {
   "cell_type": "code",
   "execution_count": 17,
   "metadata": {},
   "outputs": [],
   "source": [
    "def ngram_vectoriser(text_list, n=3):\n",
    "    ngram_feature_vector = []\n",
    "    for item in ngrams(text_list, n):\n",
    "        ngram_feature_vector.append(' '.join(item))\n",
    "    return ngram_feature_vector"
   ]
  },
  {
   "cell_type": "markdown",
   "metadata": {},
   "source": [
    "### You can also use NLTK\n",
    "\n",
    "* from nltk.tokenize import word_tokenize\n",
    "\n",
    "* from nltk.corpus import stopwords "
   ]
  },
  {
   "cell_type": "markdown",
   "metadata": {},
   "source": [
    "## Now let's write a Function to Prepare Text\n",
    "We will apply it to our DataFrame later on\n",
    "### This function receives a text string and performs the following:\n",
    "* Convert text to lower case\n",
    "* Remove punctuation marks\n",
    "* Remove stop words using the list we prepared previously\n",
    "* Apply stemming using the popular Snowball or Porter Stemmer\n",
    "* Apply NGram Tokenisation\n",
    "* Return the tokenised text as a list"
   ]
  },
  {
   "cell_type": "code",
   "execution_count": 18,
   "metadata": {},
   "outputs": [],
   "source": [
    "from nltk.stem.snowball import SnowballStemmer\n",
    "from nltk.stem import PorterStemmer\n",
    "\n",
    "#stemmer = SnowballStemmer(\"english\", ignore_stopwords=True)\n",
    "stemmer = PorterStemmer()\n",
    "\n",
    "import string\n",
    "def process_text(text):\n",
    "    \"\"\"\n",
    "    Takes in a string of text, then performs the following:\n",
    "    1. Convert text to lower case and remove all punctuation\n",
    "    2. Remove all stopwords\n",
    "    3. Apply Stemming\n",
    "    4. Apply Ngram Tokenisation\n",
    "    5. Returns the tokenised text as a list\n",
    "    \"\"\"\n",
    "    text = text.lower()\n",
    "    \n",
    "    # Check characters to see if they are in punctuation\n",
    "    nopunc = [char for char in text if char not in string.punctuation]\n",
    "\n",
    "    # Join the characters again to form the string.\n",
    "    nopunc = ''.join(nopunc)\n",
    "    \n",
    "    # Now just remove any stopwords\n",
    "    no_stop_words = [word for word in nopunc.split() if word.lower() not in my_stopwords]\n",
    "    \n",
    "    # apply stemming\n",
    "    stemmed = [stemmer.stem(word) for word in no_stop_words]\n",
    "    \n",
    "    #apply ngram tokenisation\n",
    "    tokenised = ngram_vectoriser(stemmed,1)\n",
    "    \n",
    "    return tokenised"
   ]
  },
  {
   "cell_type": "code",
   "execution_count": 19,
   "metadata": {},
   "outputs": [
    {
     "data": {
      "text/plain": [
       "['convert',\n",
       " 'text',\n",
       " 'repres',\n",
       " 'list',\n",
       " 'token',\n",
       " 'lemma',\n",
       " 'vector',\n",
       " 'machin',\n",
       " 'learn',\n",
       " 'model',\n",
       " 'understand']"
      ]
     },
     "execution_count": 19,
     "metadata": {},
     "output_type": "execute_result"
    }
   ],
   "source": [
    "process_text('Now well convert each text, represented as a list of tokens (lemmas) above, into a vector that machine learning models can understand.')"
   ]
  },
  {
   "cell_type": "markdown",
   "metadata": {},
   "source": [
    "Here is the original DataFrame again:"
   ]
  },
  {
   "cell_type": "code",
   "execution_count": 20,
   "metadata": {},
   "outputs": [
    {
     "data": {
      "text/html": [
       "<div>\n",
       "<style scoped>\n",
       "    .dataframe tbody tr th:only-of-type {\n",
       "        vertical-align: middle;\n",
       "    }\n",
       "\n",
       "    .dataframe tbody tr th {\n",
       "        vertical-align: top;\n",
       "    }\n",
       "\n",
       "    .dataframe thead th {\n",
       "        text-align: right;\n",
       "    }\n",
       "</style>\n",
       "<table border=\"1\" class=\"dataframe\">\n",
       "  <thead>\n",
       "    <tr style=\"text-align: right;\">\n",
       "      <th></th>\n",
       "      <th>Text</th>\n",
       "      <th>Category</th>\n",
       "      <th>length</th>\n",
       "    </tr>\n",
       "  </thead>\n",
       "  <tbody>\n",
       "    <tr>\n",
       "      <th>0</th>\n",
       "      <td>From: stimpy@dev-null.phys.psu.edu (Gregory Na...</td>\n",
       "      <td>10</td>\n",
       "      <td>2551</td>\n",
       "    </tr>\n",
       "    <tr>\n",
       "      <th>1</th>\n",
       "      <td>From: kennejs@a.cs.okstate.edu (KENNEDY JAMES ...</td>\n",
       "      <td>16</td>\n",
       "      <td>3070</td>\n",
       "    </tr>\n",
       "    <tr>\n",
       "      <th>2</th>\n",
       "      <td>From: perky@acs.bu.edu (Melissa Sherrin) Subje...</td>\n",
       "      <td>14</td>\n",
       "      <td>423</td>\n",
       "    </tr>\n",
       "    <tr>\n",
       "      <th>3</th>\n",
       "      <td>From: evansmp@uhura.aston.ac.uk (Mark Evans) S...</td>\n",
       "      <td>18</td>\n",
       "      <td>1069</td>\n",
       "    </tr>\n",
       "    <tr>\n",
       "      <th>4</th>\n",
       "      <td>From: sxs@extol.Convergent.Com (S. Sridhar) Su...</td>\n",
       "      <td>5</td>\n",
       "      <td>961</td>\n",
       "    </tr>\n",
       "  </tbody>\n",
       "</table>\n",
       "</div>"
      ],
      "text/plain": [
       "                                                Text  Category  length\n",
       "0  From: stimpy@dev-null.phys.psu.edu (Gregory Na...        10    2551\n",
       "1  From: kennejs@a.cs.okstate.edu (KENNEDY JAMES ...        16    3070\n",
       "2  From: perky@acs.bu.edu (Melissa Sherrin) Subje...        14     423\n",
       "3  From: evansmp@uhura.aston.ac.uk (Mark Evans) S...        18    1069\n",
       "4  From: sxs@extol.Convergent.Com (S. Sridhar) Su...         5     961"
      ]
     },
     "execution_count": 20,
     "metadata": {},
     "output_type": "execute_result"
    }
   ],
   "source": [
    "df.head()"
   ]
  },
  {
   "cell_type": "code",
   "execution_count": 21,
   "metadata": {},
   "outputs": [
    {
     "data": {
      "text/plain": [
       "0    [stimpydevnullphyspsuedu, gregori, nagi, subje...\n",
       "1    [kennejsacsokstateedu, kennedi, jame, scot, su...\n",
       "2    [perkyacsbuedu, melissa, sherrin, subject, moo...\n",
       "3    [evansmpuhuraastonacuk, mark, evan, subject, a...\n",
       "4    [sxsextolconvergentcom, s, sridhar, subject, t...\n",
       "Name: Text, dtype: object"
      ]
     },
     "execution_count": 21,
     "metadata": {},
     "output_type": "execute_result"
    }
   ],
   "source": [
    "# Check to make sure its working\n",
    "df['Text'].head(5).apply(process_text)"
   ]
  },
  {
   "cell_type": "markdown",
   "metadata": {},
   "source": [
    "## Vectorization"
   ]
  },
  {
   "cell_type": "markdown",
   "metadata": {},
   "source": [
    "Currently, we have the text file contents as lists of tokens (also known as [lemmas](http://nlp.stanford.edu/IR-book/html/htmledition/stemming-and-lemmatization-1.html)) and now we need to convert each of those texts into a vector the SciKit Learn's algorithm models can work with.\n",
    "\n",
    "Now we'll convert each text, represented as a list of tokens (lemmas) above, into a vector that machine learning models can understand.\n",
    "\n",
    "We'll do that in three steps using the bag-of-words model:\n",
    "\n",
    "1. Count how many times does a word occur in each text (Known as term frequency)\n",
    "\n",
    "2. Weigh the counts, so that frequent tokens get lower weight (inverse document frequency)\n",
    "\n",
    "3. Normalize the vectors to unit length, to abstract from the original text length (L2 norm)\n",
    "\n",
    "Let's begin the first step:"
   ]
  },
  {
   "cell_type": "markdown",
   "metadata": {},
   "source": [
    "Each vector will have as many dimensions as there are unique words in the text file corpus.  We will first use SciKit Learn's **CountVectorizer**. This model will convert a collection of text documents to a matrix of token counts.\n",
    "\n",
    "We can imagine this as a 2-Dimensional matrix. Where the 2nd-dimension is the entire vocabulary (1 column per word) and the other dimension will have the actual documents, in this case a row per text. \n",
    "\n",
    "For example:\n",
    "\n",
    "<table border = “1“>\n",
    "<tr>\n",
    "<th></th> <th>Word 1 Count</th> <th>Word 2 Count</th> <th>...</th> <th>Word M Count</th> \n",
    "</tr>\n",
    "<tr>\n",
    "<td><b>File 1</b></td><td>0</td><td>1</td><td>...</td><td>0</td>\n",
    "</tr>\n",
    "<tr>\n",
    "<td><b>File 2</b></td><td>0</td><td>0</td><td>...</td><td>0</td>\n",
    "</tr>\n",
    "<tr>\n",
    "<td><b>...</b></td> <td>1</td><td>2</td><td>...</td><td>0</td>\n",
    "</tr>\n",
    "<tr>\n",
    "<td><b>File N</b></td> <td>0</td><td>1</td><td>...</td><td>1</td>\n",
    "</tr>\n",
    "</table>\n",
    "\n",
    "\n",
    "Since there are so many text files and words, we can expect a lot of zero counts for the presence of that word in that document. Because of this, SciKit Learn will output a [Sparse Matrix](https://en.wikipedia.org/wiki/Sparse_matrix)."
   ]
  },
  {
   "cell_type": "code",
   "execution_count": 22,
   "metadata": {},
   "outputs": [],
   "source": [
    "from sklearn.feature_extraction.text import CountVectorizer"
   ]
  },
  {
   "cell_type": "markdown",
   "metadata": {},
   "source": [
    "There are a lot of arguments and parameters that can be passed to the CountVectorizer. In this case we will just specify the **analyzer** to be our own previously defined function:"
   ]
  },
  {
   "cell_type": "code",
   "execution_count": 23,
   "metadata": {},
   "outputs": [
    {
     "name": "stdout",
     "output_type": "stream",
     "text": [
      "81698\n"
     ]
    }
   ],
   "source": [
    "# Might take a while...\n",
    "# You can save this for future use .. e.g. to apply on new text\n",
    "bow_transformer = CountVectorizer(analyzer=process_text).fit(df['Text'])\n",
    "\n",
    "# Print total number of vocab words\n",
    "print(len(bow_transformer.vocabulary_))"
   ]
  },
  {
   "cell_type": "markdown",
   "metadata": {},
   "source": [
    "Let's take one text and get its bag-of-words counts as a vector, putting to use our new `bow_transformer`:"
   ]
  },
  {
   "cell_type": "code",
   "execution_count": 24,
   "metadata": {
    "scrolled": true
   },
   "outputs": [],
   "source": [
    "data4 = df['Text'][3]\n",
    "#print(data4)"
   ]
  },
  {
   "cell_type": "markdown",
   "metadata": {},
   "source": [
    "Now let's see its vector representation:"
   ]
  },
  {
   "cell_type": "code",
   "execution_count": 25,
   "metadata": {},
   "outputs": [
    {
     "name": "stdout",
     "output_type": "stream",
     "text": [
      "  (0, 1336)\t1\n",
      "  (0, 5758)\t2\n",
      "  (0, 5947)\t1\n",
      "  (0, 7673)\t1\n",
      "  (0, 8428)\t1\n",
      "  (0, 8494)\t2\n",
      "  (0, 10215)\t1\n",
      "  (0, 12038)\t1\n",
      "  (0, 13081)\t2\n",
      "  (0, 13625)\t1\n",
      "  (0, 14606)\t1\n",
      "  (0, 15336)\t1\n",
      "  (0, 16151)\t1\n",
      "  (0, 21546)\t1\n",
      "  (0, 22336)\t2\n",
      "  (0, 22901)\t1\n",
      "  (0, 23877)\t1\n",
      "  (0, 24626)\t1\n",
      "  (0, 24783)\t2\n",
      "  (0, 24784)\t1\n",
      "  (0, 27680)\t1\n",
      "  (0, 28360)\t1\n",
      "  (0, 30844)\t2\n",
      "  (0, 30851)\t1\n",
      "  (0, 30852)\t2\n",
      "  :\t:\n",
      "  (0, 56450)\t1\n",
      "  (0, 57114)\t1\n",
      "  (0, 58975)\t1\n",
      "  (0, 59723)\t1\n",
      "  (0, 61010)\t1\n",
      "  (0, 62407)\t1\n",
      "  (0, 63198)\t1\n",
      "  (0, 63830)\t1\n",
      "  (0, 63962)\t1\n",
      "  (0, 64013)\t1\n",
      "  (0, 67306)\t2\n",
      "  (0, 70783)\t1\n",
      "  (0, 70928)\t1\n",
      "  (0, 73326)\t1\n",
      "  (0, 73388)\t1\n",
      "  (0, 75124)\t1\n",
      "  (0, 75640)\t1\n",
      "  (0, 75705)\t1\n",
      "  (0, 77090)\t1\n",
      "  (0, 79380)\t1\n",
      "  (0, 79547)\t1\n",
      "  (0, 79583)\t1\n",
      "  (0, 79830)\t1\n",
      "  (0, 80348)\t1\n",
      "  (0, 81447)\t1\n",
      "(1, 81698)\n"
     ]
    }
   ],
   "source": [
    "bow4 = bow_transformer.transform([data4])\n",
    "print(bow4)\n",
    "print(bow4.shape)"
   ]
  },
  {
   "cell_type": "markdown",
   "metadata": {},
   "source": [
    "This means that there are several unique words in text file number 4 (after removing common stop words). We can see how many times each of them appears!"
   ]
  },
  {
   "cell_type": "code",
   "execution_count": 26,
   "metadata": {},
   "outputs": [
    {
     "name": "stdout",
     "output_type": "stream",
     "text": [
      "chihuahua\n",
      "5738\n"
     ]
    }
   ],
   "source": [
    "#Test\n",
    "print(bow_transformer.get_feature_names()[22326])\n",
    "print(bow_transformer.get_feature_names()[9570])"
   ]
  },
  {
   "cell_type": "code",
   "execution_count": 27,
   "metadata": {},
   "outputs": [
    {
     "data": {
      "text/plain": [
       "22328"
      ]
     },
     "execution_count": 27,
     "metadata": {},
     "output_type": "execute_result"
    }
   ],
   "source": [
    "# get the ID of a term\n",
    "bow_transformer.vocabulary_['child']"
   ]
  },
  {
   "cell_type": "code",
   "execution_count": 33,
   "metadata": {},
   "outputs": [
    {
     "data": {
      "text/plain": [
       "0"
      ]
     },
     "execution_count": 33,
     "metadata": {},
     "output_type": "execute_result"
    }
   ],
   "source": [
    "#get the frequency of term with ID 70712\n",
    "bow4.toarray()[0,22328]"
   ]
  },
  {
   "cell_type": "markdown",
   "metadata": {},
   "source": [
    "Now we can use **.transform** on our Bag-of-Words (bow) transformed object and transform the entire DataFrame of text file contents. Let's go ahead and check out how the bag-of-words counts for the entire corpus in a large, sparse matrix:"
   ]
  },
  {
   "cell_type": "code",
   "execution_count": 34,
   "metadata": {},
   "outputs": [],
   "source": [
    "text_bow = bow_transformer.transform(df['Text'])"
   ]
  },
  {
   "cell_type": "code",
   "execution_count": 35,
   "metadata": {},
   "outputs": [
    {
     "name": "stdout",
     "output_type": "stream",
     "text": [
      "Shape of Sparse Matrix:  (7532, 81698)\n",
      "Amount of Non-Zero occurences:  751102\n"
     ]
    }
   ],
   "source": [
    "print('Shape of Sparse Matrix: ', text_bow.shape)\n",
    "print('Amount of Non-Zero occurences: ', text_bow.nnz)"
   ]
  },
  {
   "cell_type": "code",
   "execution_count": 36,
   "metadata": {},
   "outputs": [
    {
     "data": {
      "text/plain": [
       "615349336"
      ]
     },
     "execution_count": 36,
     "metadata": {},
     "output_type": "execute_result"
    }
   ],
   "source": [
    "text_bow.shape[0] * text_bow.shape[1]"
   ]
  },
  {
   "cell_type": "code",
   "execution_count": 37,
   "metadata": {},
   "outputs": [
    {
     "name": "stdout",
     "output_type": "stream",
     "text": [
      "sparsity: 0.12206107263923334\n"
     ]
    }
   ],
   "source": [
    "sparsity = (100.0 * text_bow.nnz / (text_bow.shape[0] * text_bow.shape[1]))\n",
    "print('sparsity: {}'.format(sparsity))"
   ]
  },
  {
   "cell_type": "markdown",
   "metadata": {},
   "source": [
    "After the counting, the term weighting and normalization can be done with [TF-IDF](http://en.wikipedia.org/wiki/Tf%E2%80%93idf), using scikit-learn's `TfidfTransformer`.\n",
    "\n",
    "____\n",
    "### So what is TF-IDF?\n",
    "TF-IDF stands for *term frequency-inverse document frequency*, and the tf-idf weight is a weight often used in information retrieval and text mining. This weight is a statistical measure used to evaluate how important a word is to a document in a collection or corpus. The importance increases proportionally to the number of times a word appears in the document but is offset by the frequency of the word in the corpus. Variations of the tf-idf weighting scheme are often used by search engines as a central tool in scoring and ranking a document's relevance given a user query.\n",
    "\n",
    "One of the simplest ranking functions is computed by summing the tf-idf for each query term; many more sophisticated ranking functions are variants of this simple model.\n",
    "\n",
    "Typically, the tf-idf weight is composed by two terms: the first computes the normalized Term Frequency (TF), aka. the number of times a word appears in a document, divided by the total number of words in that document; the second term is the Inverse Document Frequency (IDF), computed as the logarithm of the number of the documents in the corpus divided by the number of documents where the specific term appears.\n",
    "\n",
    "**TF: Term Frequency**, which measures how frequently a term occurs in a document. Since every document is different in length, it is possible that a term would appear much more times in long documents than shorter ones. Thus, the term frequency is often divided by the document length (aka. the total number of terms in the document) as a way of normalization: \n",
    "\n",
    "*TF(t) = (Number of times term t appears in a document) / (Total number of terms in the document).*\n",
    "\n",
    "**IDF: Inverse Document Frequency**, which measures how important a term is. While computing TF, all terms are considered equally important. However it is known that certain terms, such as \"is\", \"of\", and \"that\", may appear a lot of times but have little importance. Thus we need to weigh down the frequent terms while scale up the rare ones, by computing the following: \n",
    "\n",
    "*IDF(t) = log_e(Total number of documents / Number of documents that contain term t).*\n",
    "\n",
    "See below for a simple example.\n",
    "\n",
    "**Example:**\n",
    "\n",
    "Consider a document containing 100 words wherein the word **cat** appears 3 times. \n",
    "\n",
    "The term frequency (i.e., tf) for cat is then (3 / 100) = 0.03. Now, assume we have 10 million documents and the word **cat** appears in one thousand of these. Then, the inverse document frequency (i.e., idf) is calculated as log(10,000,000 / 1,000) = 4. Thus, the TF-IDF weight is the product of these quantities: 0.03 * 4 = 0.12.\n",
    "____\n",
    "\n",
    "<table border = “1“>\n",
    "<tr>\n",
    "<th></th> <th>Word 1 Weight</th> <th>Word 2 Weight</th> <th>...</th> <th>Word M Weight</th> \n",
    "</tr>\n",
    "<tr>\n",
    "<td><b>File 1</b></td><td>0.033</td><td>1.092</td><td>...</td><td>1.301</td>\n",
    "</tr>\n",
    "<tr>\n",
    "<td><b>File 2</b></td><td>2.98</td><td>1.106</td><td>...</td><td>0.093</td>\n",
    "</tr>\n",
    "<tr>\n",
    "<td><b>...</b></td> <td>1</td><td>2</td><td>...</td><td>2.102</td>\n",
    "</tr>\n",
    "<tr>\n",
    "<td><b>File N</b></td> <td>0.173</td><td>0618</td><td>...</td><td>0.602</td>\n",
    "</tr>\n",
    "</table>\n",
    "\n",
    "_____________\n",
    "\n",
    "\n",
    "Let's go ahead and see how we can do this in SciKit Learn:"
   ]
  },
  {
   "cell_type": "code",
   "execution_count": 38,
   "metadata": {},
   "outputs": [
    {
     "name": "stdout",
     "output_type": "stream",
     "text": [
      "  (0, 81447)\t0.10008140523845403\n",
      "  (0, 80348)\t0.06854295856705225\n",
      "  (0, 79830)\t0.15079501787334995\n",
      "  (0, 79583)\t0.06325958498555886\n",
      "  (0, 79547)\t0.028964438603105307\n",
      "  (0, 79380)\t0.0473997708446162\n",
      "  (0, 77090)\t0.06138718904792455\n",
      "  (0, 75705)\t0.07429699938453296\n",
      "  (0, 75640)\t0.03422088015903033\n",
      "  (0, 75124)\t0.15079501787334995\n",
      "  (0, 73388)\t0.07209068172085802\n",
      "  (0, 73326)\t0.0438819329548225\n",
      "  (0, 70928)\t0.06590981651674595\n",
      "  (0, 70783)\t0.01812960748832766\n",
      "  (0, 67306)\t0.18821615329278996\n",
      "  (0, 64013)\t0.06962265883382078\n",
      "  (0, 63962)\t0.08542875714031813\n",
      "  (0, 63830)\t0.12393410909347007\n",
      "  (0, 63198)\t0.06982985660320655\n",
      "  (0, 62407)\t0.0752831425607777\n",
      "  (0, 61010)\t0.051524060823688655\n",
      "  (0, 59723)\t0.15079501787334995\n",
      "  (0, 58975)\t0.05689210255281795\n",
      "  (0, 57114)\t0.018793841785233512\n",
      "  (0, 56450)\t0.07585510190341327\n",
      "  :\t:\n",
      "  (0, 30852)\t0.3015900357466999\n",
      "  (0, 30851)\t0.15079501787334995\n",
      "  (0, 30844)\t0.22710912169798325\n",
      "  (0, 28360)\t0.07768793482088528\n",
      "  (0, 27680)\t0.12757219003660858\n",
      "  (0, 24784)\t0.10486008914187538\n",
      "  (0, 24783)\t0.20339826133736025\n",
      "  (0, 24626)\t0.06282961366700045\n",
      "  (0, 23877)\t0.10008140523845403\n",
      "  (0, 22901)\t0.10194248475860967\n",
      "  (0, 22336)\t0.23662224396550208\n",
      "  (0, 21546)\t0.06480281802852804\n",
      "  (0, 16151)\t0.14748959961201474\n",
      "  (0, 15336)\t0.07180959690453514\n",
      "  (0, 14606)\t0.07424375527140759\n",
      "  (0, 13625)\t0.09459156149839631\n",
      "  (0, 13081)\t0.18885792606383306\n",
      "  (0, 12038)\t0.15079501787334995\n",
      "  (0, 10215)\t0.14748959961201474\n",
      "  (0, 8494)\t0.1739408906923638\n",
      "  (0, 8428)\t0.13087760829794381\n",
      "  (0, 7673)\t0.14748959961201474\n",
      "  (0, 5947)\t0.07059601035816371\n",
      "  (0, 5758)\t0.1403327574024015\n",
      "  (0, 1336)\t0.05943001541470958\n"
     ]
    }
   ],
   "source": [
    "from sklearn.feature_extraction.text import TfidfTransformer\n",
    "# You can save this for future use .. e.g. to apply on new text\n",
    "tfidf_transformer = TfidfTransformer().fit(text_bow)\n",
    "\n",
    "tfidf4 = tfidf_transformer.transform(bow4)\n",
    "print(tfidf4)"
   ]
  },
  {
   "cell_type": "markdown",
   "metadata": {},
   "source": [
    "We'll go ahead and check what is the IDF (inverse document frequency) of the word `\"see\"` and of word `\"crack\"`?"
   ]
  },
  {
   "cell_type": "code",
   "execution_count": 39,
   "metadata": {},
   "outputs": [
    {
     "name": "stdout",
     "output_type": "stream",
     "text": [
      "4.7912502107754324\n",
      "5.783913921434162\n"
     ]
    }
   ],
   "source": [
    "print(tfidf_transformer.idf_[bow_transformer.vocabulary_['see']])\n",
    "print(tfidf_transformer.idf_[bow_transformer.vocabulary_['crack']])"
   ]
  },
  {
   "cell_type": "markdown",
   "metadata": {},
   "source": [
    "To transform the entire bag-of-words corpus into TF-IDF corpus at once:"
   ]
  },
  {
   "cell_type": "code",
   "execution_count": 40,
   "metadata": {},
   "outputs": [
    {
     "name": "stdout",
     "output_type": "stream",
     "text": [
      "(7532, 81698)\n"
     ]
    }
   ],
   "source": [
    "text_tfidf = tfidf_transformer.transform(text_bow)\n",
    "print(text_tfidf.shape)"
   ]
  },
  {
   "cell_type": "markdown",
   "metadata": {},
   "source": [
    "### If you have new unknown text\n",
    "\n",
    "You must prepare your new input by applying the same transformers .. otherwise you'll get errors\n",
    "\n",
    "1- You need to load the two transformers if you have saved them OR retrain them from scratch (not recommended)\n",
    "\n",
    "2- Apply them to prepare your input\n",
    "\n",
    "3- Feed the input into your trained classifier!"
   ]
  },
  {
   "cell_type": "code",
   "execution_count": 44,
   "metadata": {},
   "outputs": [],
   "source": [
    "#text_tfidf[2:4,1000:2050].toarray()\n",
    "#test_bow = bow_transformer.transform([input_text])\n",
    "#test_data = tfidf_transformer.transform(test_bow)\n",
    "#model.predict(test_data)"
   ]
  },
  {
   "cell_type": "markdown",
   "metadata": {},
   "source": [
    "# Now the Data is Ready for Classifier Usage"
   ]
  },
  {
   "cell_type": "markdown",
   "metadata": {},
   "source": [
    "## Training a NaiveBayes model"
   ]
  },
  {
   "cell_type": "markdown",
   "metadata": {},
   "source": [
    "With text files represented as vectors, we can finally train our favourite classifier. Now we can actually use almost any sort of classification algorithms. For a [variety of reasons](http://www.inf.ed.ac.uk/teaching/courses/inf2b/learnnotes/inf2b-learn-note07-2up.pdf), the Naive Bayes classifier algorithm is a good choice."
   ]
  },
  {
   "cell_type": "markdown",
   "metadata": {},
   "source": [
    "We'll be using scikit-learn here, choosing the [Naive Bayes](http://en.wikipedia.org/wiki/Naive_Bayes_classifier) classifier to start with:"
   ]
  },
  {
   "cell_type": "code",
   "execution_count": 45,
   "metadata": {},
   "outputs": [],
   "source": [
    "from sklearn.naive_bayes import MultinomialNB\n",
    "detect_model = MultinomialNB().fit(text_tfidf, df['Category'])"
   ]
  },
  {
   "cell_type": "markdown",
   "metadata": {},
   "source": [
    "Let's try classifying our single random text and checking how we do:"
   ]
  },
  {
   "cell_type": "code",
   "execution_count": 46,
   "metadata": {},
   "outputs": [
    {
     "name": "stdout",
     "output_type": "stream",
     "text": [
      "predicted: 18\n",
      "expected: 18\n"
     ]
    }
   ],
   "source": [
    "print('predicted:', detect_model.predict(tfidf4)[0])\n",
    "print('expected:', df.Category[3])"
   ]
  },
  {
   "cell_type": "markdown",
   "metadata": {},
   "source": [
    "Fantastic! We've developed a model that can attempt to predict the category of input text!\n",
    "\n",
    "### Model Evaluation\n",
    "Now we want to determine how well our model will do overall on the entire dataset. Let's begin by getting all the predictions:"
   ]
  },
  {
   "cell_type": "code",
   "execution_count": 47,
   "metadata": {},
   "outputs": [],
   "source": [
    "all_predictions = detect_model.predict(text_tfidf)"
   ]
  },
  {
   "cell_type": "markdown",
   "metadata": {},
   "source": [
    "We can use SciKit Learn's built-in classification report, which returns [precision, recall,](https://en.wikipedia.org/wiki/Precision_and_recall) [f1-score](https://en.wikipedia.org/wiki/F1_score), and a column for support (meaning how many cases supported that classification)."
   ]
  },
  {
   "cell_type": "code",
   "execution_count": 48,
   "metadata": {},
   "outputs": [
    {
     "name": "stdout",
     "output_type": "stream",
     "text": [
      "                          precision    recall  f1-score   support\n",
      "\n",
      "             alt.atheism       0.88      0.92      0.90       319\n",
      "           comp.graphics       0.96      0.98      0.97       389\n",
      " comp.os.ms-windows.misc       0.96      0.96      0.96       394\n",
      "comp.sys.ibm.pc.hardware       0.93      0.97      0.95       392\n",
      "   comp.sys.mac.hardware       0.99      0.97      0.98       385\n",
      "          comp.windows.x       0.99      0.98      0.99       395\n",
      "            misc.forsale       0.98      0.95      0.97       390\n",
      "               rec.autos       0.99      0.98      0.99       396\n",
      "         rec.motorcycles       0.99      0.99      0.99       398\n",
      "      rec.sport.baseball       0.99      0.99      0.99       397\n",
      "        rec.sport.hockey       0.99      0.99      0.99       399\n",
      "               sci.crypt       0.97      0.99      0.98       396\n",
      "         sci.electronics       0.98      0.98      0.98       393\n",
      "                 sci.med       0.99      0.99      0.99       396\n",
      "               sci.space       0.97      0.99      0.98       394\n",
      "  soc.religion.christian       0.82      0.99      0.90       398\n",
      "      talk.politics.guns       0.82      0.99      0.90       364\n",
      "   talk.politics.mideast       0.96      0.99      0.98       376\n",
      "      talk.politics.misc       0.99      0.83      0.90       310\n",
      "      talk.religion.misc       1.00      0.39      0.57       251\n",
      "\n",
      "                accuracy                           0.95      7532\n",
      "               macro avg       0.96      0.94      0.94      7532\n",
      "            weighted avg       0.96      0.95      0.95      7532\n",
      "\n"
     ]
    }
   ],
   "source": [
    "from sklearn.metrics import classification_report\n",
    "print(classification_report(df['Category'], all_predictions, target_names=data['target_names']))"
   ]
  },
  {
   "cell_type": "markdown",
   "metadata": {},
   "source": [
    "In the above \"evaluation\", we evaluated accuracy on the same data we used for training. **You should never actually evaluate on the same dataset you train on!**\n",
    "\n",
    "Such evaluation tells us nothing about the true predictive power of our model. If we simply remembered each example during training, the accuracy on training data would trivially be 100%, even though we wouldn't be able to classify any new texts.\n",
    "\n",
    "A proper way is to split the data into a training/test set, where the model only ever sees the **training data** during its model fitting and parameter tuning. The **test data** is never used in any way. This is then our final evaluation on test data is representative of true predictive performance."
   ]
  },
  {
   "cell_type": "markdown",
   "metadata": {},
   "source": [
    "Another way is to use ** Cross Validation **. \n",
    "\n",
    "In n Fold cross validation, the data is divided into n non-overlapping subsets. We repeat the following n times:\n",
    "* one of the n subsets is used as the test set/ validation set\n",
    "* the other n-1 subsets are put together to form a training set. \n",
    "* The error estimation is averaged over all n trials to get total accuracy of the model. "
   ]
  },
  {
   "cell_type": "markdown",
   "metadata": {},
   "source": [
    "#### Cross Validation"
   ]
  },
  {
   "cell_type": "code",
   "execution_count": 49,
   "metadata": {},
   "outputs": [
    {
     "name": "stdout",
     "output_type": "stream",
     "text": [
      "Accuracy: 0.87 (+/- 0.02)\n"
     ]
    }
   ],
   "source": [
    "from sklearn.model_selection import cross_val_score\n",
    "clf = MultinomialNB()\n",
    "scores = cross_val_score(clf, text_tfidf, df['Category'],  cv=8)\n",
    "#scores\n",
    "print(\"Accuracy: %0.2f (+/- %0.2f)\" % (scores.mean(), scores.std() * 2))"
   ]
  },
  {
   "cell_type": "markdown",
   "metadata": {},
   "source": [
    "## Training a RandomForest model"
   ]
  },
  {
   "cell_type": "code",
   "execution_count": 50,
   "metadata": {},
   "outputs": [],
   "source": [
    "from sklearn.ensemble import RandomForestClassifier"
   ]
  },
  {
   "cell_type": "markdown",
   "metadata": {},
   "source": [
    "#### Cross Validation"
   ]
  },
  {
   "cell_type": "code",
   "execution_count": 51,
   "metadata": {},
   "outputs": [
    {
     "name": "stdout",
     "output_type": "stream",
     "text": [
      "Accuracy: 0.84 (+/- 0.02)\n"
     ]
    }
   ],
   "source": [
    "clf = RandomForestClassifier()\n",
    "scores = cross_val_score(clf, text_tfidf, df['Category'],  cv=8)\n",
    "#scores\n",
    "print(\"Accuracy: %0.2f (+/- %0.2f)\" % (scores.mean(), scores.std() * 2))"
   ]
  },
  {
   "cell_type": "markdown",
   "metadata": {},
   "source": [
    "## Plot the Confusion Matrix"
   ]
  },
  {
   "cell_type": "code",
   "execution_count": 52,
   "metadata": {},
   "outputs": [
    {
     "name": "stdout",
     "output_type": "stream",
     "text": [
      "Accuracy: 0.8487060384870604, Time duration: 0.11554789543151855\n"
     ]
    },
    {
     "data": {
      "image/png": "[encoded data removed]",
      "text/plain": [
       "<Figure size 1080x720 with 2 Axes>"
      ]
     },
     "metadata": {
      "needs_background": "light"
     },
     "output_type": "display_data"
    }
   ],
   "source": [
    "from sklearn.metrics import confusion_matrix\n",
    "import matplotlib.pyplot as plt\n",
    "import time\n",
    "from sklearn.model_selection import train_test_split\n",
    "\n",
    "start = time.time()\n",
    "clf = MultinomialNB()\n",
    "#classifier = Pipeline([('vectorizer', TfidfVectorizer(stop_words=stopwords.words('english') + list(string.punctuation))),('classifier', LinearSVC(C=10))])\n",
    "X_train, X_test, y_train, y_test = train_test_split(text_tfidf, df['Category'], test_size=0.2, random_state=11)\n",
    "clf.fit(X_train, y_train)\n",
    "end = time.time()\n",
    "\n",
    "print(\"Accuracy: \" + str(clf.score(X_test, y_test)) + \", Time duration: \" + str(end - start))\n",
    "\n",
    "y_pred = clf.predict(X_test)\n",
    "conf_mat = confusion_matrix(y_test, y_pred)\n",
    "\n",
    "# Plot confusion_matrix\n",
    "fig, ax = plt.subplots(figsize=(15, 10))\n",
    "sns.heatmap(conf_mat, annot=True, cmap = \"Set3\", fmt =\"d\",\n",
    "xticklabels=data['target_names'], yticklabels=data['target_names'])\n",
    "plt.ylabel('Actual')\n",
    "plt.xlabel('Predicted')\n",
    "plt.show()\n"
   ]
  },
  {
   "cell_type": "code",
   "execution_count": null,
   "metadata": {},
   "outputs": [],
   "source": []
  }
 ],
 "metadata": {
  "kernelspec": {
   "display_name": "Python 3",
   "language": "python",
   "name": "python3"
  },
  "language_info": {
   "codemirror_mode": {
    "name": "ipython",
    "version": 3
   },
   "file_extension": ".py",
   "mimetype": "text/x-python",
   "name": "python",
   "nbconvert_exporter": "python",
   "pygments_lexer": "ipython3",
   "version": "3.7.6"
  }
 },
 "nbformat": 4,
 "nbformat_minor": 1
}
